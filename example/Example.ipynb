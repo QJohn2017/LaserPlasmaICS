{
 "cells": [
  {
   "cell_type": "code",
   "execution_count": 1,
   "metadata": {},
   "outputs": [],
   "source": [
    "from LPICS.ics import LaserPlasmaICS as ics"
   ]
  },
  {
   "cell_type": "code",
   "execution_count": 2,
   "metadata": {},
   "outputs": [
    {
     "name": "stdout",
     "output_type": "stream",
     "text": [
      "Peak power\t\t\t41.75 TW\n",
      "Peak intensity\t\t\t1.439e+19 W/cm^2\n",
      "Field amplitude (normalized)\t2.595\n",
      "Laser energy\t\t\t1.2 J\n",
      "\n",
      "Density for transverse match:\t1.587e+18 cm^-3\n",
      "Density for longitudinal match:\t2.39e+18 cm^-3\n",
      "Density for critical power:\t7.268e+17 cm^-3\n"
     ]
    }
   ],
   "source": [
    "lpi = ics(Energy=1.2, R_fwhm=16, tau_fwhm=27)\n",
    "\n",
    "print(f\"Peak power\\t\\t\\t{lpi.prm['Power']*1e-12:0.4g} TW\" )\n",
    "print(f\"Peak intensity\\t\\t\\t{lpi.prm['Intensity']:0.4g} W/cm^2\" )\n",
    "print(f\"Field amplitude (normalized)\\t{lpi.prm['a0']:0.4g}\" )\n",
    "print(f\"Laser energy\\t\\t\\t{lpi.prm['Energy']:0.4g} J\")\n",
    "\n",
    "print(f\"\\nDensity for transverse match:\\t{lpi.density_match('WLu'):0.4g} cm^-3\")\n",
    "print(f\"Density for longitudinal match:\\t{lpi.density_match('longitudinal'):0.4g} cm^-3\")\n",
    "print(f\"Density for critical power:\\t{lpi.density_match('critPower'):0.4g} cm^-3\")"
   ]
  }
 ],
 "metadata": {
  "kernelspec": {
   "display_name": "Python 3",
   "language": "python",
   "name": "python3"
  },
  "language_info": {
   "codemirror_mode": {
    "name": "ipython",
    "version": 3
   },
   "file_extension": ".py",
   "mimetype": "text/x-python",
   "name": "python",
   "nbconvert_exporter": "python",
   "pygments_lexer": "ipython3",
   "version": "3.7.6"
  }
 },
 "nbformat": 4,
 "nbformat_minor": 4
}
